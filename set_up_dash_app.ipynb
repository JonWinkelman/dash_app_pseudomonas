{
 "cells": [
  {
   "cell_type": "code",
   "execution_count": 1,
   "metadata": {
    "tags": []
   },
   "outputs": [
    {
     "name": "stdout",
     "output_type": "stream",
     "text": [
      "ncbi.datasets module not found. To install, run `pip install ncbi-datasets-pylib`.\n"
     ]
    }
   ],
   "source": [
    "from orthofinder_utils import dash_app_preprocess as dap\n",
    "from orthofinder_utils import proteomes_for_orthofinder as pfo\n",
    "from orthofinder_utils import dash_ortho_parser as dop\n",
    "from jw_utils import parse_gff as pgf\n",
    "import os\n",
    "import pandas as pd\n",
    "import json\n",
    "from Bio import Phylo\n",
    "from jw_utils import ncbi_datasets_fxs as nfx\n",
    "from jw_utils import jw_ncbi_taxonomy as jnt\n",
    "from ete3 import ncbi_taxonomy\n",
    "import shutil\n",
    "ncbi_tax = ncbi_taxonomy.NCBITaxa()"
   ]
  },
  {
   "cell_type": "code",
   "execution_count": 9,
   "metadata": {
    "tags": []
   },
   "outputs": [],
   "source": [
    "accessions = [f.strip('.faa') for f in os.listdir('./data/Proteomes/') if f.endswith('.faa')]\n",
    "\n",
    "with open('accessions.txt', 'w') as f:\n",
    "    for ele in accessions:\n",
    "        f.write(ele + '\\n')"
   ]
  },
  {
   "cell_type": "code",
   "execution_count": 11,
   "metadata": {
    "tags": []
   },
   "outputs": [
    {
     "name": "stdout",
     "output_type": "stream",
     "text": [
      "New version of client (15.12.0) available at https://ftp.ncbi.nlm.nih.gov/pub/datasets/command-line/LATEST/mac/datasets\n"
     ]
    }
   ],
   "source": [
    "!datasets summary genome accession --inputfile ./accessions.txt > ./data/summary_data/summaries.json"
   ]
  },
  {
   "cell_type": "code",
   "execution_count": 14,
   "metadata": {
    "tags": []
   },
   "outputs": [
    {
     "ename": "FileNotFoundError",
     "evalue": "[Errno 2] No such file or directory: './data/summary_data/AssemblyAccession_to_SpeciesName.json'",
     "output_type": "error",
     "traceback": [
      "\u001b[0;31m---------------------------------------------------------------------------\u001b[0m",
      "\u001b[0;31mFileNotFoundError\u001b[0m                         Traceback (most recent call last)",
      "Cell \u001b[0;32mIn[14], line 1\u001b[0m\n\u001b[0;32m----> 1\u001b[0m dop_obj \u001b[38;5;241m=\u001b[39m \u001b[43mdop\u001b[49m\u001b[38;5;241;43m.\u001b[39;49m\u001b[43mDashOrthoParser\u001b[49m\u001b[43m(\u001b[49m\u001b[38;5;124;43m'\u001b[39;49m\u001b[38;5;124;43m./data\u001b[39;49m\u001b[38;5;124;43m'\u001b[39;49m\u001b[43m)\u001b[49m\n\u001b[1;32m      2\u001b[0m \u001b[38;5;28mself\u001b[39m \u001b[38;5;241m=\u001b[39m dop_obj\n",
      "File \u001b[0;32m~/Trestle_projects/Mukherjee_lab/dash_app_pseudomonas/orthofinder_utils/dash_ortho_parser.py:30\u001b[0m, in \u001b[0;36mDashOrthoParser.__init__\u001b[0;34m(self, path_to_data_folder, tax_level, *args, **kwargs)\u001b[0m\n\u001b[1;32m     26\u001b[0m \u001b[38;5;28;01mdef\u001b[39;00m \u001b[38;5;21m__init__\u001b[39m(\u001b[38;5;28mself\u001b[39m, path_to_data_folder, tax_level\u001b[38;5;241m=\u001b[39m\u001b[38;5;124m'\u001b[39m\u001b[38;5;124mN0\u001b[39m\u001b[38;5;124m'\u001b[39m, \u001b[38;5;241m*\u001b[39margs, \u001b[38;5;241m*\u001b[39m\u001b[38;5;241m*\u001b[39mkwargs):\n\u001b[1;32m     29\u001b[0m     \u001b[38;5;28mself\u001b[39m\u001b[38;5;241m.\u001b[39mpath_to_data \u001b[38;5;241m=\u001b[39m path_to_data_folder      \n\u001b[0;32m---> 30\u001b[0m     \u001b[38;5;28mself\u001b[39m\u001b[38;5;241m.\u001b[39maccession_to_name \u001b[38;5;241m=\u001b[39m \u001b[38;5;28;43mself\u001b[39;49m\u001b[38;5;241;43m.\u001b[39;49m\u001b[43maccession_to_name\u001b[49m\u001b[43m(\u001b[49m\u001b[43m)\u001b[49m\n\u001b[1;32m     31\u001b[0m     \u001b[38;5;28mself\u001b[39m\u001b[38;5;241m.\u001b[39mname_to_accession \u001b[38;5;241m=\u001b[39m \u001b[38;5;28mself\u001b[39m\u001b[38;5;241m.\u001b[39mname_to_accession()\n\u001b[1;32m     32\u001b[0m     \u001b[38;5;28mself\u001b[39m\u001b[38;5;241m.\u001b[39maccessions \u001b[38;5;241m=\u001b[39m \u001b[38;5;28mlist\u001b[39m(\u001b[38;5;28mself\u001b[39m\u001b[38;5;241m.\u001b[39maccession_to_name\u001b[38;5;241m.\u001b[39mkeys())\n",
      "File \u001b[0;32m~/Trestle_projects/Mukherjee_lab/dash_app_pseudomonas/orthofinder_utils/dash_ortho_parser.py:110\u001b[0m, in \u001b[0;36mDashOrthoParser.accession_to_name\u001b[0;34m(self)\u001b[0m\n\u001b[1;32m    108\u001b[0m \u001b[38;5;124m'\u001b[39m\u001b[38;5;124mreturn a dictionary with accessions as keys and names as values\u001b[39m\u001b[38;5;124m'\u001b[39m\n\u001b[1;32m    109\u001b[0m path_to_json \u001b[38;5;241m=\u001b[39m os\u001b[38;5;241m.\u001b[39mpath\u001b[38;5;241m.\u001b[39mjoin(\u001b[38;5;28mself\u001b[39m\u001b[38;5;241m.\u001b[39mpath_to_data, \u001b[38;5;124m'\u001b[39m\u001b[38;5;124msummary_data/AssemblyAccession_to_SpeciesName.json\u001b[39m\u001b[38;5;124m'\u001b[39m)             \n\u001b[0;32m--> 110\u001b[0m \u001b[38;5;28;01mwith\u001b[39;00m \u001b[38;5;28;43mopen\u001b[39;49m\u001b[43m(\u001b[49m\u001b[43mpath_to_json\u001b[49m\u001b[43m)\u001b[49m \u001b[38;5;28;01mas\u001b[39;00m f:\n\u001b[1;32m    111\u001b[0m     \u001b[38;5;28;01mreturn\u001b[39;00m json\u001b[38;5;241m.\u001b[39mload(f)\n",
      "\u001b[0;31mFileNotFoundError\u001b[0m: [Errno 2] No such file or directory: './data/summary_data/AssemblyAccession_to_SpeciesName.json'"
     ]
    }
   ],
   "source": [
    "dop_obj = dop.DashOrthoParser('./data')\n",
    "self = dop_obj"
   ]
  },
  {
   "cell_type": "code",
   "execution_count": null,
   "metadata": {
    "tags": []
   },
   "outputs": [],
   "source": []
  },
  {
   "cell_type": "markdown",
   "metadata": {},
   "source": [
    "### Setup for starting a orthofinder dash app    \n",
    "***This is assuming you have run orthofinder on a set of proteomes and have the resulting    orthofinder data in a folder called Proteomes  \n",
    "1. CHANGE WORKING DIRECTORY of this notebook TO dash_app main folder   \n",
    "2. make a directory inside the main /dash_app folder called data (dash_app/data).\n",
    "    - `$ !mkdir ./data`\n",
    "    - `$ !mkdir ./data/Proteomes`\n",
    "    - `$ !mv ./Proteomes/* ./data/Proteomes`\n",
    "\n",
    "3. Place the ncbi_dataset/data containing all the data downloaded from ncbi into ./data\n",
    "    - dash_app/data/ncbi_datasets/data  \n",
    "4. You will need to generate a summary file of all genomes. Using the terminal is the most   \n",
    "reliable way I've found to do this.  \n",
    "    - `$ !datasets summary genome accession --inputfile accessions.txt > summaries.json`\n",
    " \n",
    " 4) Run `dap.run_all()` in the cell below. If you haven't generated a summary file  \n",
    " then an error will be thrown, and code to get summary file via ncbi datasets cli will be  printed out\n"
   ]
  },
  {
   "cell_type": "code",
   "execution_count": null,
   "metadata": {
    "tags": []
   },
   "outputs": [],
   "source": [
    "pfo.grab_proteomes('./ncbi_dataset/data/')"
   ]
  },
  {
   "cell_type": "markdown",
   "metadata": {},
   "source": [
    "### Check that species in different directories are equivalent"
   ]
  },
  {
   "cell_type": "code",
   "execution_count": 2,
   "metadata": {
    "tags": []
   },
   "outputs": [
    {
     "name": "stdout",
     "output_type": "stream",
     "text": [
      "\"./data/ncbi_dataset/data\" and \"./accessions.txt\" have the same genome assemblies\n",
      "\"./data/ncbi_dataset/data\" and \"./data/Proteomes\" have the same genome assemblies/proteomes\n",
      "\"./accessions.txt\" and \"./data/Proteomes\" have the same genome assemblies/proteomes\n"
     ]
    }
   ],
   "source": [
    "def check_for_equivalent_species():\n",
    "    if not os.path.exists('./data/summary_data/'):\n",
    "        os.makedirs('./data/summary_data/')\n",
    "    if not os.path.exists('./accessions.txt'):\n",
    "        raise FileNotFoundError('\"./accessions.txt\" could not be found.')\n",
    "    proteomes = [f[:15] for f in os.listdir('./data/Proteomes') if f.endswith('.faa')]\n",
    "    assemblies = [f[:15] for f in os.listdir('./data/ncbi_dataset/data') if f.startswith('GC')]\n",
    "    with open('./accessions.txt', 'r') as f:\n",
    "        accessions = [line.strip() for line in f]\n",
    "    if not sorted(accessions) == sorted(assemblies):\n",
    "        raise Exception(f'\"./data/ncbi_dataset/data\" and \"./accessions.txt\" are not equivalent') \n",
    "    else:\n",
    "        print(f'\"./data/ncbi_dataset/data\" and \"./accessions.txt\" have the same genome assemblies') \n",
    "    if not sorted(assemblies) == sorted(proteomes):\n",
    "        raise Exception(f'\"./data/ncbi_dataset/data\" and \"./data/Proteomes\" are not equivalent')\n",
    "    else:\n",
    "        print(f'\"./data/ncbi_dataset/data\" and \"./data/Proteomes\" have the same genome assemblies/proteomes') \n",
    "    if not sorted(accessions) == sorted(proteomes):\n",
    "        raise Exception(f'\"./accessions.txt\" and \"./data/Proteomes\" are not equivalent')\n",
    "    else:\n",
    "        print(f'\"./accessions.txt\" and \"./data/Proteomes\" have the same genome assemblies/proteomes') \n",
    "    shutil.copy('./accessions.txt', './data/summary_data/accessions.txt')\n",
    "    \n",
    "accs_proteomes = [a[:15] for a in os.listdir('./data/Proteomes/') if a.startswith('GC')]\n",
    "acc_assemblies = [f[:15] for f in os.listdir('./data/ncbi_dataset/data') if f.startswith('GC')]\n",
    "\n",
    "def deduplicate_accessions_file():\n",
    "    with open('./accessions.txt', 'r') as f:\n",
    "        accs_from_file = []\n",
    "        for line in f: \n",
    "            accs_from_file.append(line.strip())\n",
    "    with open('./accessions.txt', 'w') as f:\n",
    "        accs_from_file = list(set(accs_from_file))\n",
    "        for acc in accs_from_file:\n",
    "            f.write(f'{acc}\\n')\n",
    "    return accs_from_file\n",
    "\n",
    "accs_from_file = deduplicate_accessions_file()\n",
    "accs_from_file.sort()\n",
    "acc_assemblies.sort()\n",
    "accs_proteomes.sort()\n",
    "acc_assemblies == accs_proteomes\n",
    "accs_from_file == accs_proteomes\n",
    "\n",
    "for acc in accs_proteomes:\n",
    "    if acc not in accs_from_file:\n",
    "        print(f'Proteome {acc} not in ./accessions.txt')\n",
    "for acc in accs_from_file:\n",
    "    if acc not in accs_proteomes:\n",
    "        print(f'Assession {acc} from ./assessions.txt  not in ./data/Proteomes/')\n",
    "for acc in acc_assemblies:\n",
    "    if acc not in accs_proteomes:\n",
    "        print(f'Assession {acc} from ./data/ncbi_dataset/data  not in ./data/Proteomes/')\n",
    "        print(acc)\n",
    "        \n",
    "check_for_equivalent_species()"
   ]
  },
  {
   "cell_type": "code",
   "execution_count": 17,
   "metadata": {
    "tags": []
   },
   "outputs": [
    {
     "data": {
      "text/plain": [
       "'/Users/jonwinkelman/Trestle_projects/Mukherjee_lab/dash_app_pseudomonas'"
      ]
     },
     "execution_count": 17,
     "metadata": {},
     "output_type": "execute_result"
    }
   ],
   "source": [
    "os.getcwd()"
   ]
  },
  {
   "cell_type": "code",
   "execution_count": 33,
   "metadata": {
    "tags": []
   },
   "outputs": [
    {
     "name": "stdout",
     "output_type": "stream",
     "text": [
      "New version of client (15.11.0) available at https://ftp.ncbi.nlm.nih.gov/pub/datasets/command-line/LATEST/mac/datasets\n"
     ]
    }
   ],
   "source": [
    "!datasets summary genome accession --inputfile ./data/summary_data/accessions.txt > ./data/summary_data/summaries.json"
   ]
  },
  {
   "cell_type": "markdown",
   "metadata": {},
   "source": [
    "## Generate data files for dash app\n",
    "### !!Change path for latest orthofinder results!!"
   ]
  },
  {
   "cell_type": "code",
   "execution_count": 3,
   "metadata": {
    "tags": []
   },
   "outputs": [
    {
     "ename": "FileNotFoundError",
     "evalue": "[Errno 2] No such file or directory: './data/Proteomes/OrthoFinder/Results_Aug04_1/Orthogroups'",
     "output_type": "error",
     "traceback": [
      "\u001b[0;31m---------------------------------------------------------------------------\u001b[0m",
      "\u001b[0;31mFileNotFoundError\u001b[0m                         Traceback (most recent call last)",
      "Cell \u001b[0;32mIn[3], line 3\u001b[0m\n\u001b[1;32m      1\u001b[0m path_to_parent\u001b[38;5;241m=\u001b[39mos\u001b[38;5;241m.\u001b[39mgetcwd()\n\u001b[1;32m      2\u001b[0m path_to_results \u001b[38;5;241m=\u001b[39m \u001b[38;5;124m'\u001b[39m\u001b[38;5;124m./data/Proteomes/OrthoFinder/Results_Aug04_1\u001b[39m\u001b[38;5;124m'\u001b[39m\n\u001b[0;32m----> 3\u001b[0m \u001b[43mdap\u001b[49m\u001b[38;5;241;43m.\u001b[39;49m\u001b[43mrun_all\u001b[49m\u001b[43m(\u001b[49m\u001b[43mpath_to_results\u001b[49m\u001b[43m)\u001b[49m\n",
      "File \u001b[0;32m~/Trestle_projects/Mukherjee_lab/dash_app_pseudomonas/orthofinder_utils/dash_app_preprocess.py:44\u001b[0m, in \u001b[0;36mrun_all\u001b[0;34m(path_to_results)\u001b[0m\n\u001b[1;32m     42\u001b[0m check_dir_structure(path_to_app_folder, path_to_results)\n\u001b[1;32m     43\u001b[0m write_AssemblyAccession_to_SpeciesName_from_summaries(path_to_results)\n\u001b[0;32m---> 44\u001b[0m \u001b[43mcopy_folders_from_orthoresults\u001b[49m\u001b[43m(\u001b[49m\u001b[43mpath_to_results\u001b[49m\u001b[43m)\u001b[49m\n\u001b[1;32m     45\u001b[0m os\u001b[38;5;241m.\u001b[39mchdir(path_to_app_folder)\n\u001b[1;32m     46\u001b[0m initial_check(path_to_results)\n",
      "File \u001b[0;32m~/Trestle_projects/Mukherjee_lab/dash_app_pseudomonas/orthofinder_utils/dash_app_preprocess.py:223\u001b[0m, in \u001b[0;36mcopy_folders_from_orthoresults\u001b[0;34m(path_to_results)\u001b[0m\n\u001b[1;32m    221\u001b[0m \u001b[38;5;28;01mimport\u001b[39;00m \u001b[38;5;21;01mshutil\u001b[39;00m\n\u001b[1;32m    222\u001b[0m src_ortho \u001b[38;5;241m=\u001b[39m os\u001b[38;5;241m.\u001b[39mpath\u001b[38;5;241m.\u001b[39mjoin(path_to_results,\u001b[38;5;124m'\u001b[39m\u001b[38;5;124mOrthogroups\u001b[39m\u001b[38;5;124m'\u001b[39m)\n\u001b[0;32m--> 223\u001b[0m \u001b[43mshutil\u001b[49m\u001b[38;5;241;43m.\u001b[39;49m\u001b[43mcopytree\u001b[49m\u001b[43m(\u001b[49m\u001b[43msrc_ortho\u001b[49m\u001b[43m,\u001b[49m\u001b[43m \u001b[49m\u001b[38;5;124;43m'\u001b[39;49m\u001b[38;5;124;43m./data/Orthogroups\u001b[39;49m\u001b[38;5;124;43m'\u001b[39;49m\u001b[43m)\u001b[49m\n\u001b[1;32m    224\u001b[0m src_HOGs \u001b[38;5;241m=\u001b[39m os\u001b[38;5;241m.\u001b[39mpath\u001b[38;5;241m.\u001b[39mjoin(path_to_results,\u001b[38;5;124m'\u001b[39m\u001b[38;5;124mPhylogenetic_Hierarchical_Orthogroups\u001b[39m\u001b[38;5;124m'\u001b[39m)\n\u001b[1;32m    225\u001b[0m shutil\u001b[38;5;241m.\u001b[39mcopytree(src_HOGs, \u001b[38;5;124m'\u001b[39m\u001b[38;5;124m./data/Phylogenetic_Hierarchical_Orthogroups\u001b[39m\u001b[38;5;124m'\u001b[39m)\n",
      "File \u001b[0;32m/usr/local/Cellar/python@3.10/3.10.8/Frameworks/Python.framework/Versions/3.10/lib/python3.10/shutil.py:556\u001b[0m, in \u001b[0;36mcopytree\u001b[0;34m(src, dst, symlinks, ignore, copy_function, ignore_dangling_symlinks, dirs_exist_ok)\u001b[0m\n\u001b[1;32m    517\u001b[0m \u001b[38;5;250m\u001b[39m\u001b[38;5;124;03m\"\"\"Recursively copy a directory tree and return the destination directory.\u001b[39;00m\n\u001b[1;32m    518\u001b[0m \n\u001b[1;32m    519\u001b[0m \u001b[38;5;124;03mIf exception(s) occur, an Error is raised with a list of reasons.\u001b[39;00m\n\u001b[0;32m   (...)\u001b[0m\n\u001b[1;32m    553\u001b[0m \u001b[38;5;124;03m`src` tree.\u001b[39;00m\n\u001b[1;32m    554\u001b[0m \u001b[38;5;124;03m\"\"\"\u001b[39;00m\n\u001b[1;32m    555\u001b[0m sys\u001b[38;5;241m.\u001b[39maudit(\u001b[38;5;124m\"\u001b[39m\u001b[38;5;124mshutil.copytree\u001b[39m\u001b[38;5;124m\"\u001b[39m, src, dst)\n\u001b[0;32m--> 556\u001b[0m \u001b[38;5;28;01mwith\u001b[39;00m \u001b[43mos\u001b[49m\u001b[38;5;241;43m.\u001b[39;49m\u001b[43mscandir\u001b[49m\u001b[43m(\u001b[49m\u001b[43msrc\u001b[49m\u001b[43m)\u001b[49m \u001b[38;5;28;01mas\u001b[39;00m itr:\n\u001b[1;32m    557\u001b[0m     entries \u001b[38;5;241m=\u001b[39m \u001b[38;5;28mlist\u001b[39m(itr)\n\u001b[1;32m    558\u001b[0m \u001b[38;5;28;01mreturn\u001b[39;00m _copytree(entries\u001b[38;5;241m=\u001b[39mentries, src\u001b[38;5;241m=\u001b[39msrc, dst\u001b[38;5;241m=\u001b[39mdst, symlinks\u001b[38;5;241m=\u001b[39msymlinks,\n\u001b[1;32m    559\u001b[0m                  ignore\u001b[38;5;241m=\u001b[39mignore, copy_function\u001b[38;5;241m=\u001b[39mcopy_function,\n\u001b[1;32m    560\u001b[0m                  ignore_dangling_symlinks\u001b[38;5;241m=\u001b[39mignore_dangling_symlinks,\n\u001b[1;32m    561\u001b[0m                  dirs_exist_ok\u001b[38;5;241m=\u001b[39mdirs_exist_ok)\n",
      "\u001b[0;31mFileNotFoundError\u001b[0m: [Errno 2] No such file or directory: './data/Proteomes/OrthoFinder/Results_Aug04_1/Orthogroups'"
     ]
    }
   ],
   "source": [
    "path_to_parent=os.getcwd()\n",
    "path_to_results = './data/Proteomes/OrthoFinder/Results_Aug04_1'\n",
    "dap.run_all(path_to_results)"
   ]
  },
  {
   "cell_type": "code",
   "execution_count": 4,
   "metadata": {
    "tags": []
   },
   "outputs": [],
   "source": [
    "def make_internal_node_d(tree):\n",
    "    \"\"\"\"\"\"\n",
    "    internal_node_dict = {}\n",
    "    for node in tree.get_nonterminals():\n",
    "        internal_node_dict[node.name] = {'name':node.name, 'rank':'', 'taxid':'', 'sci_name':''}\n",
    "    for node in tree.get_terminals():\n",
    "            internal_node_dict[node.name] = {'name':node.name}\n",
    "    internal_node_dict\n",
    "\n",
    "    with open('./data/summary_data/internal_node_dict.json', 'w') as f:\n",
    "        json.dump(internal_node_dict, f)\n",
    "    return internal_node_dict\n",
    "\n",
    "def accession_taxid_d(path_to_summary):\n",
    "    \"\"\"Return simplified dict {acc:taxid} from ncbi summary.json.\"\"\"\n",
    "    \n",
    "    with open(path_to_summary, 'r') as f:\n",
    "        summary_d = nfx.make_summary_dict(json.load(f))\n",
    "    acc_tax_d ={}\n",
    "    for acc in summary_d:\n",
    "        acc_tax_d[acc] = summary_d[acc]['org']['tax_id']\n",
    "    return acc_tax_d\n",
    "\n",
    "\n",
    "def get_rank_sciname_for_each_leaf(tree, rank, path_to_summary):\n",
    "    \"\"\"Return a dict with a sci_name at a given rank for each leaf {leaf:sci_name}\n",
    "    e.g. given rank phylum: return {GCF_######:'Proteobacteria'}\n",
    "    \"\"\"\n",
    "\n",
    "    acc_tax_d =  accession_taxid_d(path_to_summary)   \n",
    "    leaf_rank_sciname = {}\n",
    "    for leaf in tree.get_terminals():\n",
    "        leaf_taxid = acc_tax_d[leaf.name]\n",
    "        leaf_rank_taxid = jnt.get_lineage_rank_dict(leaf_taxid).get(rank)\n",
    "        if leaf_rank_taxid:\n",
    "            leaf_rank_sciname[leaf.name] = list(ncbi_tax.get_taxid_translator([leaf_rank_taxid]).values())[0]\n",
    "        else:\n",
    "            leaf_rank_sciname[leaf.name] = None\n",
    "    return leaf_rank_sciname\n",
    "\n",
    "\n",
    "def get_list_of_all_nodes(subtree, clades=None):\n",
    "    \"\"\"Get a list of all clade objects, including leaves, in a Bio.Phylo tree\"\"\"\n",
    "    if not isinstance(subtree, (Phylo.Newick.Tree, Phylo.Newick.Clade)):\n",
    "        raise TypeError(f'object entered needs to be of type {Phylo.Newick.Tree} or {Phylo.Newick.Clade}, you entered {type(subtree)}' )\n",
    "        \n",
    "    if clades is None:\n",
    "        clades=[]\n",
    "    for cl in subtree.root:\n",
    "        clades.append(cl)\n",
    "        if cl.is_terminal():\n",
    "             clades.append(cl)\n",
    "        else:\n",
    "            get_list_of_all_nodes(cl, clades)\n",
    "    return clades\n",
    "\n",
    "\n",
    "def get_nodes_assoc_with_ranks(tree, rank, path_to_summary):\n",
    "    \"\"\"\"\"\"\n",
    "    leaf_rank_scinames_d = get_rank_sciname_for_each_leaf(tree, rank, path_to_summary)\n",
    "    node_dict = {}\n",
    "    for cl in get_list_of_all_nodes(tree):\n",
    "        #check to see if all leaves in clade have same sci_name, if so then clade is that sci_name\n",
    "        leaves =  cl.get_terminals()\n",
    "        sci_names = []\n",
    "\n",
    "        for leaf in leaves:\n",
    "            sci_names.append(leaf_rank_scinames_d[leaf.name])\n",
    "        sci_names = list(set(sci_names))\n",
    "        if len(sci_names) == 1:\n",
    "            node_dict[cl.name] = sci_names[0]\n",
    "    unique_scinames = set(list(node_dict.values()))\n",
    "    rank_nodes = {n:[] for n in unique_scinames}\n",
    "    for node, sci_name in node_dict.items():\n",
    "        rank_nodes[sci_name].append(node)\n",
    "    return rank_nodes\n",
    "\n",
    "\n",
    "def get_anc_node_each_rank(tree, rank, path_to_summary):\n",
    "    \"\"\"\"\"\"\n",
    "    rank_nodes = get_nodes_assoc_with_ranks(tree, rank, path_to_summary)\n",
    "    mrca_clades = {}\n",
    "    for rank_name, clades in rank_nodes.items():\n",
    "        leaves = []\n",
    "        for cl in clades:\n",
    "            clade = tree.find_any(cl) \n",
    "            if clade.is_terminal():\n",
    "                leaves.append(clade)\n",
    "        mrca_clade  = tree.is_monophyletic(leaves)\n",
    "        if mrca_clade:\n",
    "            mrca_clades[rank_name] = mrca_clade.name\n",
    "        else:\n",
    "            mrca_clades[rank_name] = 'not monophyletic'\n",
    "    return mrca_clades\n",
    "\n",
    "\n",
    "def make_mrcaClade_file(tree, path_to_summary):\n",
    "    rank_mrca_clades_d = {}\n",
    "    available_ranks = ['no rank', 'superkingdom','family', 'genus', 'phylum', 'class', 'order', 'species']\n",
    "    for rank in available_ranks:\n",
    "        mrca_clades = get_anc_node_each_rank(tree, rank, path_to_summary)\n",
    "        rank_mrca_clades_d[rank] = mrca_clades\n",
    "    with open('./ranks_mrca_clades.json', 'w') as f:\n",
    "        json.dump(rank_mrca_clades_d, f)\n",
    "    return rank_mrca_clades_d  \n",
    "\n",
    "\n",
    "\n",
    "tree = Phylo.read('./data/Species_Tree/SpeciesTree_rooted_node_labels.txt', format='newick')\n",
    "internal_node_dict = make_internal_node_d(tree)\n",
    "path_to_summary ='./data/summary_data/summaries.json'\n",
    "rank_mrca_clades_d = make_mrcaClade_file(tree, path_to_summary)\n"
   ]
  },
  {
   "cell_type": "markdown",
   "metadata": {},
   "source": [
    "### Done"
   ]
  },
  {
   "cell_type": "code",
   "execution_count": 5,
   "metadata": {
    "tags": []
   },
   "outputs": [],
   "source": [
    "ass2_name_path = './data/summary_data/AssemblyAccession_to_SpeciesName.json'"
   ]
  },
  {
   "cell_type": "code",
   "execution_count": 6,
   "metadata": {
    "tags": []
   },
   "outputs": [],
   "source": [
    "def make_ass2_name_dict(ass2_name_path):\n",
    "    \"\"\"Return accession_to_name dict from AssemblyAccession_to_SpeciesName.json in summary data\"\"\" \n",
    "    with open(ass2_name_path, 'r') as f:\n",
    "        return json.load(f)"
   ]
  },
  {
   "cell_type": "code",
   "execution_count": 8,
   "metadata": {
    "tags": []
   },
   "outputs": [
    {
     "data": {
      "text/plain": [
       "{'GCF_024448735.1': '[Pseudomonas] zhaodongensis DSM 27559T',\n",
       " 'GCA_001077675.1': 'Acinetobacter baumannii ATCC 17978-mff',\n",
       " 'GCF_000046845.1': 'Acinetobacter baylyi ADP1',\n",
       " 'GCF_000413935.1': 'Acinetobacter colistiniresistens NIPH 2036',\n",
       " 'GCF_001682515.1': 'Acinetobacter gyllenbergii FMP01',\n",
       " 'GCF_005281455.1': 'Acinetobacter nosocomialis M2',\n",
       " 'GCF_002362295.1': 'Burkholderia ubonensis subsp. mesacidophila',\n",
       " 'GCF_004124255.1': 'Candidatus Pseudomonas adelgestsugas',\n",
       " 'GCF_900105005.1': 'Halopseudomonas litoralis 2SM5',\n",
       " 'GCF_020025155.1': 'Halopseudomonas nanhaiensis SCS 2-3',\n",
       " 'GCF_009497895.1': 'Halopseudomonas pelagia Kongs-67',\n",
       " 'GCF_900105255.1': 'Halopseudomonas sabulinigri JCM 14963',\n",
       " 'GCF_900105655.1': 'Halopseudomonas salegens CECT 8338',\n",
       " 'GCF_900104945.1': 'Halopseudomonas xinjiangensis NRRL B-51270',\n",
       " 'GCF_004355125.1': 'Pseudomonas aeruginosa AES1M',\n",
       " 'GCF_004355145.1': 'Pseudomonas aeruginosa AES1R',\n",
       " 'GCF_011466835.1': 'Pseudomonas aeruginosa CF39S',\n",
       " 'GCF_013343435.1': 'Pseudomonas aeruginosa DVT419',\n",
       " 'GCF_013343475.1': 'Pseudomonas aeruginosa DVT779',\n",
       " 'GCF_013343535.1': 'Pseudomonas aeruginosa DVT412',\n",
       " 'GCF_022559545.1': 'Pseudomonas aeruginosa PES_P749',\n",
       " 'GCF_000271365.1': 'Pseudomonas aeruginosa DK2',\n",
       " 'GCF_000026645.1': 'Pseudomonas aeruginosa LESB58',\n",
       " 'GCF_000017205.1': 'Pseudomonas aeruginosa PA7',\n",
       " 'GCF_000568855.2': 'Pseudomonas aeruginosa PAK',\n",
       " 'GCF_000006765.1': 'Pseudomonas aeruginosa PAO1',\n",
       " 'GCF_000510305.1': 'Pseudomonas aeruginosa SCV20265',\n",
       " 'GCA_000014625.1': 'Pseudomonas aeruginosa UCBPP-PA14',\n",
       " 'GCF_001543125.1': 'Pseudomonas agarici NCPPB 2472',\n",
       " 'GCF_016861485.1': 'Pseudomonas alcaligenes KAM426',\n",
       " 'GCF_021654315.1': 'Pseudomonas alcaligenes MRCP2',\n",
       " 'GCF_000746525.1': 'Pseudomonas alkylphenolica KL28',\n",
       " 'GCF_009755645.1': 'Pseudomonas alkylphenolica Neo',\n",
       " 'GCF_014863605.1': 'Pseudomonas allokribbensis IzPS23',\n",
       " 'GCF_019141525.1': 'Pseudomonas alvandae SWRI17',\n",
       " 'GCF_019334485.1': 'Pseudomonas amygdali HS1',\n",
       " 'GCF_020204845.1': 'Pseudomonas amygdali 35-1',\n",
       " 'GCF_001400675.1': 'Pseudomonas amygdali pv. aesculi',\n",
       " 'GCF_000146005.2': 'Pseudomonas amygdali pv. lachrymans str. M301315',\n",
       " 'GCF_000145885.1': 'Pseudomonas amygdali pv. lachrymans str. M302278',\n",
       " 'GCF_023207855.1': 'Pseudomonas amygdali pv. loropetali',\n",
       " 'GCF_003699405.1': 'Pseudomonas amygdali pv. tabaci',\n",
       " 'GCF_001647715.1': 'Pseudomonas antarctica PAMC 27494',\n",
       " 'GCF_014269225.2': 'Pseudomonas anuradhapurensis RD8MR3',\n",
       " 'GCF_001839655.2': 'Pseudomonas argentinensis SA190',\n",
       " 'GCF_004135995.1': 'Pseudomonas arsenicoxydans ACM1',\n",
       " 'GCF_019139815.1': 'Pseudomonas asgharzadehiana SWRI132',\n",
       " 'GCF_014656565.1': 'Pseudomonas asiatica C1',\n",
       " 'GCF_000452745.2': 'Pseudomonas asturiensis CC1524',\n",
       " 'GCF_017167965.1': 'Pseudomonas atacamensis SM1',\n",
       " 'GCF_002905795.1': 'Pseudomonas avellanae R2leaf',\n",
       " 'GCF_019139795.1': 'Pseudomonas azerbaijanorientalis SWRI123',\n",
       " 'GCF_002007785.1': 'Pseudomonas azotoformans F77',\n",
       " 'GCF_022533565.1': 'Pseudomonas azotoformans ZY-1',\n",
       " 'GCF_024397895.1': 'Pseudomonas benzenivorans D13-4',\n",
       " 'GCF_013347965.1': 'Pseudomonas bijieensis L22-9',\n",
       " 'GCF_001449085.1': 'Pseudomonas brassicacearum LBUM300',\n",
       " 'GCF_008370715.1': 'Pseudomonas brassicacearum 3Re2-7',\n",
       " 'GCF_021389915.1': 'Pseudomonas brassicacearum WCS365',\n",
       " 'GCF_000194805.1': 'Pseudomonas brassicacearum subsp. brassicacearum NFM421',\n",
       " 'GCF_001641345.1': 'Pseudomonas brenneri RGCB 108',\n",
       " 'GCF_013200955.1': 'Pseudomonas campi S1-A32-2',\n",
       " 'GCF_016599635.1': 'Pseudomonas cannabina pv. alisalensis',\n",
       " 'GCF_900104915.1': 'Pseudomonas cedrina LMG 23661',\n",
       " 'GCF_900235895.1': 'Pseudomonas cerasi PL963',\n",
       " 'GCF_000319815.1': 'Pseudomonas chengduensis 34',\n",
       " 'GCF_015712065.1': 'Pseudomonas chengduensis 402',\n",
       " 'GCF_003851145.1': 'Pseudomonas chlororaphis ATCC 17415',\n",
       " 'GCF_003851985.1': 'Pseudomonas chlororaphis B25',\n",
       " 'GCF_020424105.1': 'Pseudomonas chlororaphis L5734',\n",
       " 'GCF_900636995.1': 'Pseudomonas chlororaphis NCTC7357',\n",
       " 'GCF_009362955.1': 'Pseudomonas chlororaphis subsp. aurantiaca',\n",
       " 'GCF_003851385.1': 'Pseudomonas chlororaphis subsp. aureofaciens',\n",
       " 'GCF_000813225.1': 'Pseudomonas chlororaphis subsp. aureofaciens NBRC 3521',\n",
       " 'GCF_000237045.1': 'Pseudomonas chlororaphis subsp. chlororaphis GP72',\n",
       " 'GCF_003850385.1': 'Pseudomonas chlororaphis subsp. piscium',\n",
       " 'GCF_003850425.1': 'Pseudomonas chlororaphis subsp. piscium',\n",
       " 'GCF_003415775.1': 'Pseudomonas cichorii 473',\n",
       " 'GCF_004745455.1': 'Pseudomonas citronellolis DSM 50332',\n",
       " 'GCF_002318885.1': 'Pseudomonas congelans DM2.1.12.02A',\n",
       " 'GCF_011765175.1': 'Pseudomonas coronafaciens X-1',\n",
       " 'GCF_003699955.1': 'Pseudomonas coronafaciens pv. coronafaciens',\n",
       " 'GCF_001708425.1': 'Pseudomonas corrugata RM1-1-4',\n",
       " 'GCF_000759535.1': 'Pseudomonas cremoricolorata ND07',\n",
       " 'GCF_000696345.2': 'Pseudomonas donghuensis P482',\n",
       " 'GCF_023277925.1': 'Pseudomonas entomophila 23S',\n",
       " 'GCF_000026105.1': 'Pseudomonas entomophila L48',\n",
       " 'GCF_013374995.1': 'Pseudomonas eucalypticola NP-1',\n",
       " 'GCF_900625045.1': 'Pseudomonas extremaustralis DSM 17835T',\n",
       " 'GCF_008801565.1': 'Pseudomonas extremorientalis CCUG 51517',\n",
       " 'GCF_019139895.1': 'Pseudomonas fakonensis COW40',\n",
       " 'GCF_003410335.1': 'Pseudomonas fluorescens Pf275',\n",
       " 'GCF_003626995.1': 'Pseudomonas fluorescens PF08',\n",
       " 'GCF_004683905.1': 'Pseudomonas fluorescens LBUM677',\n",
       " 'GCF_900475215.1': 'Pseudomonas fluorescens NCTC10038',\n",
       " 'GCF_000293885.2': 'Pseudomonas fluorescens NCIMB 11764',\n",
       " 'GCF_000009225.2': 'Pseudomonas fluorescens SBW25',\n",
       " 'GCF_015476275.1': 'Pseudomonas fragi NL20W',\n",
       " 'GCF_002355315.1': 'Pseudomonas frederiksbergensis KNU-15',\n",
       " 'GCF_002688705.1': 'Pseudomonas fulva SB1',\n",
       " 'GCF_002951475.1': 'Pseudomonas fulva FDAARGOS_167',\n",
       " 'GCF_017166425.1': 'Pseudomonas fulva F8_7S_2P',\n",
       " 'GCF_000280575.1': 'Pseudomonas fuscovaginae CB98818',\n",
       " 'GCF_019614655.1': 'Pseudomonas germanica FIT28',\n",
       " 'GCF_001594225.1': 'Pseudomonas glycinae MS586',\n",
       " 'GCF_019719375.1': 'Pseudomonas glycinae XJFL-1',\n",
       " 'GCF_014863585.1': 'Pseudomonas gozinkensis IzPS32d',\n",
       " 'GCF_900105485.1': 'Pseudomonas granadensis LMG 27940',\n",
       " 'GCF_900105885.1': 'Pseudomonas guangdongensis CCTCC AB 2012022',\n",
       " 'GCF_014268595.1': 'Pseudomonas hamedanensis SWRI65',\n",
       " 'GCF_021495345.1': 'Pseudomonas hydrolytica DSWY01',\n",
       " 'GCF_014268585.2': 'Pseudomonas iranensis SWRI54',\n",
       " 'GCF_002356535.2': 'Pseudomonas izuensis LAB-08',\n",
       " 'GCF_021725455.1': 'Pseudomonas juntendi 18091276',\n",
       " 'GCF_024023035.1': 'Pseudomonas kermanshahensis F8',\n",
       " 'GCF_017915135.1': 'Pseudomonas khazarica ODT-83',\n",
       " 'GCF_009911755.1': 'Pseudomonas knackmussii N1-2',\n",
       " 'GCF_001605965.1': 'Pseudomonas koreensis D26',\n",
       " 'GCF_021398855.1': 'Pseudomonas kribbensis H38E-23',\n",
       " 'GCF_020422905.1': 'Pseudomonas lalkuanensis ACYW.190',\n",
       " 'GCF_001297075.1': 'Pseudomonas libanensis RIT-PI-g',\n",
       " 'GCF_001042905.1': 'Pseudomonas lini DSM 16768',\n",
       " 'GCF_001020725.2': 'Pseudomonas lundensis AU1044',\n",
       " 'GCF_002966835.1': 'Pseudomonas lurida MYb11',\n",
       " 'GCF_008693965.1': 'Pseudomonas luteola FDAARGOS_637',\n",
       " 'GCF_019693255.1': 'Pseudomonas mandelii KGI_MA19',\n",
       " 'GCF_002091695.1': 'Pseudomonas mandelii NBRC 103147',\n",
       " 'GCF_900116605.1': 'Pseudomonas marincola JCM 14761',\n",
       " 'GCF_900682675.1': 'Pseudomonas marincola YSy11',\n",
       " 'GCF_019139675.1': 'Pseudomonas maumuensis COW77',\n",
       " 'GCF_001412045.1': 'Pseudomonas mediterranea CFBP5444',\n",
       " 'GCF_002442555.1': 'Pseudomonas mendocina MAE1-K',\n",
       " 'GCF_017798225.1': 'Pseudomonas mendocina CPS5',\n",
       " 'GCF_000204295.1': 'Pseudomonas mendocina NK-01',\n",
       " 'GCF_014076455.1': 'Pseudomonas migulae R1-9',\n",
       " 'GCF_014268495.1': 'Pseudomonas monsensis PGSB 8459',\n",
       " 'GCF_002943995.1': 'Pseudomonas monteilii FDAARGOS_171',\n",
       " 'GCF_000510285.1': 'Pseudomonas monteilii SB3078',\n",
       " 'GCF_002287865.1': 'Pseudomonas moraviensis TYU5',\n",
       " 'GCF_002736065.1': 'Pseudomonas mosselii PtA1',\n",
       " 'GCF_900106045.1': 'Pseudomonas mucidolens LMG 2223',\n",
       " 'GCF_012971725.1': 'Pseudomonas multiresinivorans populi',\n",
       " 'GCF_019139535.1': 'Pseudomonas muyukensis COW39',\n",
       " 'GCF_900188285.1': 'Pseudomonas nitroreducens LMG 21614',\n",
       " 'GCF_002941105.1': 'Pseudomonas oleovorans YKJ',\n",
       " 'GCF_900626055.1': 'Pseudomonas oleovorans T9AD',\n",
       " 'GCF_022807995.1': 'Pseudomonas orientalis YB-76',\n",
       " 'GCF_900104805.1': 'Pseudomonas oryzae KCTC 32247',\n",
       " 'GCF_001518815.1': 'Pseudomonas oryzihabitans USDA-ARS-USMARC-56511',\n",
       " 'GCF_003940825.1': 'Pseudomonas oryziphila 1257',\n",
       " 'GCF_011397855.1': 'Pseudomonas otitidis MrB4',\n",
       " 'GCF_019879085.1': 'Pseudomonas otitidis CSMC7.1',\n",
       " 'GCF_022870785.1': 'Pseudomonas palleroniana X49',\n",
       " 'GCF_001477425.1': 'Pseudomonas parafulva NS96',\n",
       " 'GCF_021432765.1': 'Pseudomonas phenolilytica RBPA9',\n",
       " 'GCF_002864795.1': 'Pseudomonas plecoglossicida MR135',\n",
       " 'GCF_002980135.1': 'Pseudomonas poae MYb117',\n",
       " 'GCF_900105995.1': 'Pseudomonas pohangensis DSM 17875',\n",
       " 'GCF_014269025.1': 'Pseudomonas promysalinigenes RW10S1',\n",
       " 'GCF_003671865.1': 'Pseudomonas prosekii A2-NA12',\n",
       " 'GCF_000828695.1': 'Pseudomonas protegens Cab57',\n",
       " 'GCF_000397205.1': 'Pseudomonas protegens CHA0',\n",
       " 'GCF_000012265.1': 'Pseudomonas protegens Pf-5',\n",
       " 'GCF_011040435.1': 'Pseudomonas psychrophila KM02',\n",
       " 'GCF_014522265.1': 'Pseudomonas psychrotolerans KNF2016',\n",
       " 'GCF_001515585.1': 'Pseudomonas putida 1A00316',\n",
       " 'GCF_005080685.1': 'Pseudomonas putida 1290',\n",
       " 'GCF_007833495.1': 'Pseudomonas putida B1',\n",
       " 'GCF_013425825.1': 'Pseudomonas putida BS3701',\n",
       " 'GCF_021601925.1': 'Pseudomonas qingdaonensis BML-PP027',\n",
       " 'GCF_008801455.1': 'Pseudomonas reinekei CCUG 53116',\n",
       " 'GCF_000761155.1': 'Pseudomonas rhizosphaerae DSM 16299',\n",
       " 'GCF_018417575.1': 'Pseudomonas rhodesiae DLA23',\n",
       " 'GCF_014268375.2': 'Pseudomonas salmasensis SWRI126',\n",
       " 'GCF_014855475.1': 'Pseudomonas savastanoi CAS03',\n",
       " 'GCF_020917325.1': 'Pseudomonas savastanoi MHT1',\n",
       " 'GCF_003413075.1': 'Pseudomonas savastanoi pv. phaseolicola',\n",
       " 'GCF_013911125.1': 'Pseudomonas savastanoi pv. savastanoi',\n",
       " 'GCF_022026035.1': 'Pseudomonas savastanoi pv. savastanoi',\n",
       " 'GCF_000164015.3': 'Pseudomonas savastanoi pv. savastanoi NCPPB 3335',\n",
       " 'GCF_013409125.2': 'Pseudomonas sediminis B10D7D',\n",
       " 'GCF_019139855.1': 'Pseudomonas sessilinigenes CMR12a',\n",
       " 'GCF_014268455.2': 'Pseudomonas shahriarae SWRI52',\n",
       " 'GCF_022049085.1': 'Pseudomonas shirazica CA-1',\n",
       " 'GCF_900106015.1': 'Pseudomonas sihuiensis KCTC 32246',\n",
       " 'GCF_001661075.1': 'Pseudomonas silesiensis A3',\n",
       " 'GCF_024072295.1': 'Pseudomonas siliginis OTU6ESPEB1',\n",
       " 'GCF_016134935.1': 'Pseudomonas simiae K-Hf-L9',\n",
       " 'GCF_013778535.1': 'Pseudomonas sivasensis CCUG 57209',\n",
       " 'GCF_000349845.1': 'Pseudomonas sp. ATCC 13867',\n",
       " 'GCF_001655595.1': 'Pseudomonas sp. DR 5-09',\n",
       " 'GCF_002884415.1': 'Pseudomonas sp. FW305-17',\n",
       " 'GCF_001655615.1': 'Pseudomonas sp. GR 6-02',\n",
       " 'GCF_001655295.1': 'Pseudomonas sp. JY-Q',\n",
       " 'GCF_001547895.1': 'Pseudomonas sp. Os17',\n",
       " 'GCF_001547915.1': 'Pseudomonas sp. St29',\n",
       " 'GCF_001708505.1': 'Pseudomonas sp. TCU-HL1',\n",
       " 'GCF_003852025.1': 'Pseudomonas synxantha R2-54-08W',\n",
       " 'GCF_901482615.1': 'Pseudomonas synxantha NCTC10696',\n",
       " 'GCF_000452705.1': 'Pseudomonas syringae CC1557',\n",
       " 'GCF_002024285.1': 'Pseudomonas syringae pv. actinidiae',\n",
       " 'GCF_009903285.1': 'Pseudomonas syringae pv. actinidiae',\n",
       " 'GCF_000344475.3': 'Pseudomonas syringae pv. actinidiae str. Shaanxi_M228',\n",
       " 'GCF_003047185.1': 'Pseudomonas syringae pv. atrofaciens',\n",
       " 'GCF_022557235.1': 'Pseudomonas syringae pv. helianthi',\n",
       " 'GCF_001400495.1': 'Pseudomonas syringae pv. lapsa',\n",
       " 'GCF_001482725.1': 'Pseudomonas syringae pv. lapsa',\n",
       " 'GCF_000145845.1': 'Pseudomonas syringae pv. maculicola str. ES4326',\n",
       " 'GCF_000145845.2': 'Pseudomonas syringae pv. maculicola str. ES4326',\n",
       " 'GCF_000452445.2': 'Pseudomonas syringae pv. pisi str. PP1',\n",
       " 'GCF_022510205.1': 'Pseudomonas syringae pv. syringae',\n",
       " 'GCF_000988485.1': 'Pseudomonas syringae pv. syringae B301D',\n",
       " 'GCF_003700835.1': 'Pseudomonas syringae pv. tagetis',\n",
       " 'GCF_002966555.1': 'Pseudomonas syringae pv. tomato',\n",
       " 'GCF_000007805.1': 'Pseudomonas syringae pv. tomato str. DC3000',\n",
       " 'GCF_000172895.1': 'Pseudomonas syringae pv. tomato T1',\n",
       " 'GCF_900475285.1': 'Pseudomonas taetrolens NCTC10697',\n",
       " 'GCF_013393345.1': 'Pseudomonas taiwanensis xwS3',\n",
       " 'GCF_014268445.1': 'Pseudomonas tensinigenes ZA 5.3',\n",
       " 'GCF_001269655.1': 'Pseudomonas thivervalensis DSM 13194',\n",
       " 'GCF_021605025.1': 'Pseudomonas tohonis TUM20249',\n",
       " 'GCF_019285655.1': 'Pseudomonas tolaasii Pt11',\n",
       " 'GCF_002741095.1': 'Pseudomonas toyotomiensis DSM 26169',\n",
       " 'GCF_024413275.1': 'Pseudomonas tremae CLA0494',\n",
       " 'GCF_014268275.2': 'Pseudomonas tritici SWRI145',\n",
       " 'GCF_001730655.1': 'Pseudomonas trivialis LMG 21464',\n",
       " 'GCF_014190825.1': 'Pseudomonas umsongensis KD5',\n",
       " 'GCF_004348895.1': 'Pseudomonas vancouverensis Dha-51',\n",
       " 'GCF_014268755.2': 'Pseudomonas vanderleydeniana RW8P3',\n",
       " 'GCF_021233455.1': 'Pseudomonas veronii G2',\n",
       " 'GCF_018388545.1': 'Pseudomonas viridiflava U625',\n",
       " 'GCF_900601635.1': 'Pseudomonas viridiflava p8.D10',\n",
       " 'GCF_021029445.1': 'Pseudomonas wenzhouensis A20',\n",
       " 'GCF_014268885.2': 'Pseudomonas xantholysinigenes RW9S1A',\n",
       " 'GCF_019139835.1': 'Pseudomonas xanthosomatis COR54',\n",
       " 'GCF_013403585.1': 'Pseudomonas yamanorum GZD14026',\n",
       " 'GCF_014268695.2': 'Pseudomonas zarinae SWRI108',\n",
       " 'GCF_014268485.2': 'Pseudomonas zeae OE 48.2',\n",
       " 'GCF_009740185.1': 'Stutzerimonas degradans XL272',\n",
       " 'GCF_000219605.1': 'Stutzerimonas stutzeri CGMCC 1.1803',\n",
       " 'GCF_900636845.1': 'Stutzerimonas stutzeri NCTC10450',\n",
       " 'GCF_000013785.1': 'Stutzerimonas stutzeri A1501',\n",
       " 'GCF_000327065.1': 'Stutzerimonas stutzeri RCH2',\n",
       " 'GCF_000825645.2': 'Stutzerimonas xanthomarina S11'}"
      ]
     },
     "execution_count": 8,
     "metadata": {},
     "output_type": "execute_result"
    }
   ],
   "source": [
    "make_ass2_name_dict(ass2_name_path)"
   ]
  },
  {
   "cell_type": "code",
   "execution_count": null,
   "metadata": {
    "tags": []
   },
   "outputs": [],
   "source": [
    "\n"
   ]
  },
  {
   "cell_type": "code",
   "execution_count": 10,
   "metadata": {
    "tags": []
   },
   "outputs": [],
   "source": []
  },
  {
   "cell_type": "code",
   "execution_count": 11,
   "metadata": {
    "tags": []
   },
   "outputs": [],
   "source": []
  },
  {
   "cell_type": "code",
   "execution_count": null,
   "metadata": {
    "tags": []
   },
   "outputs": [],
   "source": []
  },
  {
   "cell_type": "code",
   "execution_count": 8,
   "metadata": {
    "tags": []
   },
   "outputs": [],
   "source": []
  },
  {
   "cell_type": "code",
   "execution_count": 9,
   "metadata": {
    "tags": []
   },
   "outputs": [],
   "source": []
  },
  {
   "cell_type": "code",
   "execution_count": null,
   "metadata": {
    "tags": []
   },
   "outputs": [],
   "source": []
  },
  {
   "cell_type": "code",
   "execution_count": null,
   "metadata": {
    "tags": []
   },
   "outputs": [],
   "source": []
  },
  {
   "cell_type": "code",
   "execution_count": null,
   "metadata": {
    "tags": []
   },
   "outputs": [],
   "source": []
  },
  {
   "cell_type": "code",
   "execution_count": null,
   "metadata": {},
   "outputs": [],
   "source": []
  },
  {
   "cell_type": "code",
   "execution_count": null,
   "metadata": {},
   "outputs": [],
   "source": []
  },
  {
   "cell_type": "code",
   "execution_count": null,
   "metadata": {},
   "outputs": [],
   "source": []
  }
 ],
 "metadata": {
  "kernelspec": {
   "display_name": "Python 3 (ipykernel)",
   "language": "python",
   "name": "python3"
  },
  "language_info": {
   "codemirror_mode": {
    "name": "ipython",
    "version": 3
   },
   "file_extension": ".py",
   "mimetype": "text/x-python",
   "name": "python",
   "nbconvert_exporter": "python",
   "pygments_lexer": "ipython3",
   "version": "3.10.8"
  }
 },
 "nbformat": 4,
 "nbformat_minor": 4
}
