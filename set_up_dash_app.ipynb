{
 "cells": [
  {
   "cell_type": "code",
   "execution_count": 38,
   "metadata": {
    "tags": []
   },
   "outputs": [],
   "source": [
    "from orthofinder_utils import dash_app_preprocess as dap\n",
    "from orthofinder_utils import proteomes_for_orthofinder as pfo\n",
    "from orthofinder_utils import dash_ortho_parser as dop\n",
    "from jw_utils import parse_gff as pgf\n",
    "import os\n",
    "import pandas as pd\n",
    "import json\n",
    "from Bio import Phylo\n",
    "from jw_utils import ncbi_datasets_fxs as nfx\n",
    "from jw_utils import jw_ncbi_taxonomy as jnt\n",
    "from ete3 import ncbi_taxonomy\n",
    "ncbi_tax = ncbi_taxonomy.NCBITaxa()"
   ]
  },
  {
   "cell_type": "code",
   "execution_count": null,
   "metadata": {
    "tags": []
   },
   "outputs": [],
   "source": [
    "\n"
   ]
  },
  {
   "cell_type": "code",
   "execution_count": 31,
   "metadata": {
    "tags": []
   },
   "outputs": [],
   "source": [
    "dop_obj = dop.DashOrthoParser('./data')\n",
    "self = dop_obj"
   ]
  },
  {
   "cell_type": "code",
   "execution_count": null,
   "metadata": {
    "tags": []
   },
   "outputs": [],
   "source": []
  },
  {
   "cell_type": "markdown",
   "metadata": {},
   "source": [
    "### Setup for starting a orthofinder dash app    \n",
    "***This is assuming you have run orthofinder on a set of proteomes and have the resulting    orthofinder data in a folder called Proteomes  \n",
    "1. CHANGE WORKING DIRECTORY of this notebook TO dash_app main folder   \n",
    "2. make a directory inside the main /dash_app folder called data (dash_app/data).\n",
    "    - `$ !mkdir ./data`\n",
    "    - `$ !mkdir ./data/Proteomes`\n",
    "    - `$ !mv ./Proteomes/* ./data/Proteomes`\n",
    "\n",
    "3. Place the ncbi_dataset/data containing all the data downloaded from ncbi into ./data\n",
    "    - dash_app/data/ncbi_datasets/data  \n",
    "4. You will need to generate a summary file of all genomes. Using the terminal is the most   \n",
    "reliable way I've found to do this.  \n",
    "    - `$ !datasets summary genome accession --inputfile accessions.txt > summaries.json`\n",
    " \n",
    " 4) Run `dap.run_all()` in the cell below. If you haven't generated a summary file  \n",
    " then an error will be thrown, and code to get summary file via ncbi datasets cli will be  printed out\n"
   ]
  },
  {
   "cell_type": "code",
   "execution_count": null,
   "metadata": {
    "tags": []
   },
   "outputs": [],
   "source": [
    "pfo.grab_proteomes('./ncbi_dataset/data/')"
   ]
  },
  {
   "cell_type": "markdown",
   "metadata": {},
   "source": [
    "### Check that species in different directories are equivalent"
   ]
  },
  {
   "cell_type": "code",
   "execution_count": 32,
   "metadata": {
    "tags": []
   },
   "outputs": [
    {
     "name": "stdout",
     "output_type": "stream",
     "text": [
      "\"./data/ncbi_dataset/data\" and \"./accessions.txt\" have the same genome assemblies\n",
      "\"./data/ncbi_dataset/data\" and \"./data/Proteomes\" have the same genome assemblies/proteomes\n",
      "\"./accessions.txt\" and \"./data/Proteomes\" have the same genome assemblies/proteomes\n"
     ]
    }
   ],
   "source": [
    "def check_for_equivalent_species():\n",
    "    if not os.path.exists('./data/summary_data/'):\n",
    "        os.makedirs('./data/summary_data/')\n",
    "    if not os.path.exists('./accessions.txt'):\n",
    "        raise FileNotFoundError('\"./accessions.txt\" could not be found.')\n",
    "    proteomes = [f[:15] for f in os.listdir('./data/Proteomes') if f.endswith('.faa')]\n",
    "    assemblies = [f[:15] for f in os.listdir('./data/ncbi_dataset/data') if f.startswith('GC')]\n",
    "    with open('./accessions.txt', 'r') as f:\n",
    "        accessions = [line.strip() for line in f]\n",
    "    if not sorted(accessions) == sorted(assemblies):\n",
    "        raise Exception(f'\"./data/ncbi_dataset/data\" and \"./accessions.txt\" are not equivalent') \n",
    "    else:\n",
    "        print(f'\"./data/ncbi_dataset/data\" and \"./accessions.txt\" have the same genome assemblies') \n",
    "    if not sorted(assemblies) == sorted(proteomes):\n",
    "        raise Exception(f'\"./data/ncbi_dataset/data\" and \"./data/Proteomes\" are not equivalent')\n",
    "    else:\n",
    "        print(f'\"./data/ncbi_dataset/data\" and \"./data/Proteomes\" have the same genome assemblies/proteomes') \n",
    "    if not sorted(accessions) == sorted(proteomes):\n",
    "        raise Exception(f'\"./accessions.txt\" and \"./data/Proteomes\" are not equivalent')\n",
    "    else:\n",
    "        print(f'\"./accessions.txt\" and \"./data/Proteomes\" have the same genome assemblies/proteomes') \n",
    "    shutil.copy('./accessions.txt', './data/summary_data/accessions.txt')\n",
    "    \n",
    "accs_proteomes = [a[:15] for a in os.listdir('./data/Proteomes/') if a.startswith('GC')]\n",
    "acc_assemblies = [f[:15] for f in os.listdir('./data/ncbi_dataset/data') if f.startswith('GC')]\n",
    "\n",
    "def deduplicate_accessions_file():\n",
    "    with open('./accessions.txt', 'r') as f:\n",
    "        accs_from_file = []\n",
    "        for line in f: \n",
    "            accs_from_file.append(line.strip())\n",
    "    with open('./accessions.txt', 'w') as f:\n",
    "        accs_from_file = list(set(accs_from_file))\n",
    "        for acc in accs_from_file:\n",
    "            f.write(f'{acc}\\n')\n",
    "    return accs_from_file\n",
    "\n",
    "accs_from_file = deduplicate_accessions_file()\n",
    "accs_from_file.sort()\n",
    "acc_assemblies.sort()\n",
    "accs_proteomes.sort()\n",
    "acc_assemblies == accs_proteomes\n",
    "accs_from_file == accs_proteomes\n",
    "\n",
    "for acc in accs_proteomes:\n",
    "    if acc not in accs_from_file:\n",
    "        print(f'Proteome {acc} not in ./accessions.txt')\n",
    "for acc in accs_from_file:\n",
    "    if acc not in accs_proteomes:\n",
    "        print(f'Assession {acc} from ./assessions.txt  not in ./data/Proteomes/')\n",
    "for acc in acc_assemblies:\n",
    "    if acc not in accs_proteomes:\n",
    "        print(f'Assession {acc} from ./data/ncbi_dataset/data  not in ./data/Proteomes/')\n",
    "        print(acc)\n",
    "        \n",
    "check_for_equivalent_species()"
   ]
  },
  {
   "cell_type": "code",
   "execution_count": null,
   "metadata": {
    "tags": []
   },
   "outputs": [],
   "source": []
  },
  {
   "cell_type": "code",
   "execution_count": 33,
   "metadata": {
    "tags": []
   },
   "outputs": [
    {
     "name": "stdout",
     "output_type": "stream",
     "text": [
      "New version of client (15.11.0) available at https://ftp.ncbi.nlm.nih.gov/pub/datasets/command-line/LATEST/mac/datasets\n"
     ]
    }
   ],
   "source": [
    "!datasets summary genome accession --inputfile ./data/summary_data/accessions.txt > ./data/summary_data/summaries.json"
   ]
  },
  {
   "cell_type": "markdown",
   "metadata": {},
   "source": [
    "## Generate data files for dash app\n",
    "### !!Change path for latest orthofinder results!!"
   ]
  },
  {
   "cell_type": "code",
   "execution_count": 6,
   "metadata": {
    "tags": []
   },
   "outputs": [],
   "source": [
    "path_to_parent=os.getcwd()\n",
    "path_to_results = './data/Proteomes/OrthoFinder/Results_Jul31'\n",
    "dap.run_all(path_to_results)"
   ]
  },
  {
   "cell_type": "code",
   "execution_count": 41,
   "metadata": {
    "tags": []
   },
   "outputs": [],
   "source": [
    "def make_internal_node_d(tree):\n",
    "    \"\"\"\"\"\"\n",
    "    internal_node_dict = {}\n",
    "    for node in tree.get_nonterminals():\n",
    "        internal_node_dict[node.name] = {'name':node.name, 'rank':'', 'taxid':'', 'sci_name':''}\n",
    "    for node in tree.get_terminals():\n",
    "            internal_node_dict[node.name] = {'name':node.name}\n",
    "    internal_node_dict\n",
    "\n",
    "    with open('./data/summary_data/internal_node_dict.json', 'w') as f:\n",
    "        json.dump(internal_node_dict, f)\n",
    "    return internal_node_dict\n",
    "\n",
    "def accession_taxid_d(path_to_summary):\n",
    "    \"\"\"Return simplified dict {acc:taxid} from ncbi summary.json.\"\"\"\n",
    "    \n",
    "    with open(path_to_summary, 'r') as f:\n",
    "        summary_d = nfx.make_summary_dict(json.load(f))\n",
    "    acc_tax_d ={}\n",
    "    for acc in summary_d:\n",
    "        acc_tax_d[acc] = summary_d[acc]['org']['tax_id']\n",
    "    return acc_tax_d\n",
    "\n",
    "\n",
    "def get_rank_sciname_for_each_leaf(tree, rank, path_to_summary):\n",
    "    \"\"\"Return a dict with a sci_name at a given rank for each leaf {leaf:sci_name}\n",
    "    e.g. given rank phylum: return {GCF_######:'Proteobacteria'}\n",
    "    \"\"\"\n",
    "\n",
    "    acc_tax_d =  accession_taxid_d(path_to_summary)   \n",
    "    leaf_rank_sciname = {}\n",
    "    for leaf in tree.get_terminals():\n",
    "        leaf_taxid = acc_tax_d[leaf.name]\n",
    "        leaf_rank_taxid = jnt.get_lineage_rank_dict(leaf_taxid).get(rank)\n",
    "        if leaf_rank_taxid:\n",
    "            leaf_rank_sciname[leaf.name] = list(ncbi_tax.get_taxid_translator([leaf_rank_taxid]).values())[0]\n",
    "        else:\n",
    "            leaf_rank_sciname[leaf.name] = None\n",
    "    return leaf_rank_sciname\n",
    "\n",
    "\n",
    "def get_list_of_all_nodes(subtree, clades=None):\n",
    "    \"\"\"Get a list of all clade objects, including leaves, in a Bio.Phylo tree\"\"\"\n",
    "    if not isinstance(subtree, (Phylo.Newick.Tree, Phylo.Newick.Clade)):\n",
    "        raise TypeError(f'object entered needs to be of type {Phylo.Newick.Tree} or {Phylo.Newick.Clade}, you entered {type(subtree)}' )\n",
    "        \n",
    "    if clades is None:\n",
    "        clades=[]\n",
    "    for cl in subtree.root:\n",
    "        clades.append(cl)\n",
    "        if cl.is_terminal():\n",
    "             clades.append(cl)\n",
    "        else:\n",
    "            get_list_of_all_nodes(cl, clades)\n",
    "    return clades\n",
    "\n",
    "\n",
    "def get_nodes_assoc_with_ranks(tree, rank, path_to_summary):\n",
    "    \"\"\"\"\"\"\n",
    "    leaf_rank_scinames_d = get_rank_sciname_for_each_leaf(tree, rank, path_to_summary)\n",
    "    node_dict = {}\n",
    "    for cl in get_list_of_all_nodes(tree):\n",
    "        #check to see if all leaves in clade have same sci_name, if so then clade is that sci_name\n",
    "        leaves =  cl.get_terminals()\n",
    "        sci_names = []\n",
    "\n",
    "        for leaf in leaves:\n",
    "            sci_names.append(leaf_rank_scinames_d[leaf.name])\n",
    "        sci_names = list(set(sci_names))\n",
    "        if len(sci_names) == 1:\n",
    "            node_dict[cl.name] = sci_names[0]\n",
    "    unique_scinames = set(list(node_dict.values()))\n",
    "    rank_nodes = {n:[] for n in unique_scinames}\n",
    "    for node, sci_name in node_dict.items():\n",
    "        rank_nodes[sci_name].append(node)\n",
    "    return rank_nodes\n",
    "\n",
    "\n",
    "def get_anc_node_each_rank(tree, rank, path_to_summary):\n",
    "    \"\"\"\"\"\"\n",
    "    rank_nodes = get_nodes_assoc_with_ranks(tree, rank, path_to_summary)\n",
    "    mrca_clades = {}\n",
    "    for rank_name, clades in rank_nodes.items():\n",
    "        leaves = []\n",
    "        for cl in clades:\n",
    "            clade = tree.find_any(cl) \n",
    "            if clade.is_terminal():\n",
    "                leaves.append(clade)\n",
    "        mrca_clade  = tree.is_monophyletic(leaves)\n",
    "        if mrca_clade:\n",
    "            mrca_clades[rank_name] = mrca_clade.name\n",
    "        else:\n",
    "            mrca_clades[rank_name] = 'not monophyletic'\n",
    "    return mrca_clades\n",
    "\n",
    "\n",
    "def make_mrcaClade_file(tree, path_to_summary):\n",
    "    rank_mrca_clades_d = {}\n",
    "    available_ranks = ['no rank', 'superkingdom','family', 'genus', 'phylum', 'class', 'order', 'species']\n",
    "    for rank in available_ranks:\n",
    "        mrca_clades = get_anc_node_each_rank(tree, rank, path_to_summary)\n",
    "        rank_mrca_clades_d[rank] = mrca_clades\n",
    "    with open('./ranks_mrca_clades.json', 'w') as f:\n",
    "        json.dump(rank_mrca_clades_d, f)\n",
    "    return rank_mrca_clades_d  \n",
    "\n",
    "\n",
    "\n",
    "tree = Phylo.read('./data/Species_Tree/SpeciesTree_rooted_node_labels.txt', format='newick')\n",
    "internal_node_dict = make_internal_node_d(tree)\n",
    "path_to_summary ='./data/summary_data/summaries.json'\n",
    "rank_mrca_clades_d = make_mrcaClade_file(tree, path_to_summary)\n"
   ]
  },
  {
   "cell_type": "markdown",
   "metadata": {},
   "source": [
    "### Done"
   ]
  },
  {
   "cell_type": "code",
   "execution_count": 7,
   "metadata": {
    "tags": []
   },
   "outputs": [],
   "source": [
    "ass2_name_path = './data/summary_data/AssemblyAccession_to_SpeciesName.json'"
   ]
  },
  {
   "cell_type": "code",
   "execution_count": 8,
   "metadata": {
    "tags": []
   },
   "outputs": [],
   "source": [
    "def make_ass2_name_dict(ass2_name_path):\n",
    "    \"\"\"Return accession_to_name dict from AssemblyAccession_to_SpeciesName.json in summary data\"\"\" \n",
    "    with open(ass2_name_path, 'r') as f:\n",
    "        return json.load(f)"
   ]
  },
  {
   "cell_type": "code",
   "execution_count": 9,
   "metadata": {
    "tags": []
   },
   "outputs": [],
   "source": []
  },
  {
   "cell_type": "code",
   "execution_count": null,
   "metadata": {
    "tags": []
   },
   "outputs": [],
   "source": [
    "\n"
   ]
  },
  {
   "cell_type": "code",
   "execution_count": 10,
   "metadata": {
    "tags": []
   },
   "outputs": [],
   "source": []
  },
  {
   "cell_type": "code",
   "execution_count": 11,
   "metadata": {
    "tags": []
   },
   "outputs": [],
   "source": []
  },
  {
   "cell_type": "code",
   "execution_count": null,
   "metadata": {
    "tags": []
   },
   "outputs": [],
   "source": []
  },
  {
   "cell_type": "code",
   "execution_count": 8,
   "metadata": {
    "tags": []
   },
   "outputs": [],
   "source": []
  },
  {
   "cell_type": "code",
   "execution_count": 9,
   "metadata": {
    "tags": []
   },
   "outputs": [],
   "source": []
  },
  {
   "cell_type": "code",
   "execution_count": null,
   "metadata": {
    "tags": []
   },
   "outputs": [],
   "source": []
  },
  {
   "cell_type": "code",
   "execution_count": null,
   "metadata": {
    "tags": []
   },
   "outputs": [],
   "source": []
  },
  {
   "cell_type": "code",
   "execution_count": null,
   "metadata": {
    "tags": []
   },
   "outputs": [],
   "source": []
  },
  {
   "cell_type": "code",
   "execution_count": null,
   "metadata": {},
   "outputs": [],
   "source": []
  },
  {
   "cell_type": "code",
   "execution_count": null,
   "metadata": {},
   "outputs": [],
   "source": []
  },
  {
   "cell_type": "code",
   "execution_count": null,
   "metadata": {},
   "outputs": [],
   "source": []
  }
 ],
 "metadata": {
  "kernelspec": {
   "display_name": "Python 3 (ipykernel)",
   "language": "python",
   "name": "python3"
  },
  "language_info": {
   "codemirror_mode": {
    "name": "ipython",
    "version": 3
   },
   "file_extension": ".py",
   "mimetype": "text/x-python",
   "name": "python",
   "nbconvert_exporter": "python",
   "pygments_lexer": "ipython3",
   "version": "3.10.8"
  }
 },
 "nbformat": 4,
 "nbformat_minor": 4
}
