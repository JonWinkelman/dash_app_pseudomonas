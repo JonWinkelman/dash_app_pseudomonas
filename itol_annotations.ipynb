{
 "cells": [
  {
   "cell_type": "code",
   "execution_count": 1,
   "id": "e5d96024-64fc-435e-822e-c028e52f255b",
   "metadata": {
    "tags": []
   },
   "outputs": [],
   "source": [
    "import sys\n",
    "import inspect\n",
    "from jw_utils import jw_draw_tree as jdt\n",
    "from ete3 import ncbi_taxonomy\n",
    "from ete3 import Tree\n",
    "ncbi_tax = ncbi_taxonomy.NCBITaxa()\n",
    "import json\n",
    "from jw_utils import ncbi_datasets_fxs as nfx\n",
    "from orthofinder_utils import dash_ortho_parser as dop\n",
    "from Bio import Phylo\n",
    "from plotly import graph_objects as go\n",
    "from jw_utils import jw_ncbi_taxonomy as jnt\n",
    "import os\n",
    "from jw_utils import plotly_preferences as pprefs"
   ]
  },
  {
   "cell_type": "code",
   "execution_count": 20,
   "id": "c7ae9118-1555-4baa-80a7-16ed90dd93df",
   "metadata": {
    "tags": []
   },
   "outputs": [],
   "source": [
    "rgb_to_hex = {'rgba(132,137,145,1)':'#848991',\n",
    " 'rgb(0,208,132)':'#00d084',\n",
    " 'rgb(0,122,255)':'#007aff',\n",
    " 'rgb(171,184,195)':'#abb8c3',\n",
    " 'rgb(255,105,0)':'#ff6900',\n",
    " 'rgb(252,185,0)':'#fcb900',\n",
    " 'rgb(123,220,181)':'#7bdcb5',\n",
    " 'rgb(142,209,252)':'#8ed1fc',\n",
    " 'rgb(6,147,227)':'#0693e3',\n",
    " 'rgb(155,81,224)':'#9b51e0',\n",
    " 'rgb(207,46,46)':'#cf2e2e',\n",
    " 'rgb(247,141,167)':'#f78da7'}\n",
    "\n",
    "hex_colors = list(rgb_to_hex.values())"
   ]
  },
  {
   "cell_type": "code",
   "execution_count": 22,
   "id": "0eeee150-a3cc-40e2-b8ef-730359de48e9",
   "metadata": {
    "tags": []
   },
   "outputs": [
    {
     "data": {
      "text/plain": [
       "12"
      ]
     },
     "execution_count": 22,
     "metadata": {},
     "output_type": "execute_result"
    }
   ],
   "source": []
  },
  {
   "cell_type": "code",
   "execution_count": 2,
   "id": "9cf722f4-fd09-4fcc-9999-539d94c7e249",
   "metadata": {
    "tags": []
   },
   "outputs": [],
   "source": [
    "def copynumber_bargraph_data_dict(HOGs, dop_obj, id_type='accession'):\n",
    "    \"\"\"Make a nested dict 'data_dict' {HOG{leaf_id:counts}} for input into create_tree_w_bargraphs function\n",
    "    \n",
    "    Parameters:\n",
    "    HOGs (list): List of one or more HOGs\n",
    "    dop_obj (dash_orthoparser oject): must be generated atthe same Hierarchical level as the input HOG\n",
    "    id_type (str): Can be 'accession' or 'name'. Determines whether the dict keys will be accessions or sci. names.\n",
    "    \"\"\"\n",
    "    \n",
    "    data_dict =  {}\n",
    "    data_dict_names = {}\n",
    "    for HOG in HOGs:\n",
    "        data_dict[HOG] = dop_obj.HOG_proteins_in_genome(HOG, dop_obj.accessions).to_dict()\n",
    "    if id_type =='accession':\n",
    "        return data_dict\n",
    "\n",
    "    if id_type == 'name':\n",
    "        for HOG in HOGs:\n",
    "            data_dict_names[HOG] = {}\n",
    "            for  acc, count in data_dict[HOG].items():\n",
    "                name = dop_obj.accession_to_name[acc]\n",
    "                data_dict_names[HOG][name] = data_dict[HOG][acc]\n",
    "        return data_dict_names"
   ]
  },
  {
   "cell_type": "code",
   "execution_count": 172,
   "id": "3d354d1f-910f-4604-b257-c08f90352fc5",
   "metadata": {
    "tags": []
   },
   "outputs": [],
   "source": [
    "def _make_field_labels(name_list):\n",
    "    \"\"\"return itol line with field labels pulled from from name list\"\"\"\n",
    "    \n",
    "    field_labels='FIELD_LABELS,'\n",
    "    for name in name_list:\n",
    "        field_labels =f'{field_labels}{name},'\n",
    "    field_labels=field_labels.strip(',')\n",
    "    return field_labels\n",
    "\n",
    "\n",
    "def _make_field_colors(name_list,hexcolors=None):\n",
    "    \"\"\"Return itol line with hexcolors for each field\"\"\"\n",
    "    if not hexcolors:\n",
    "        hexcolors = ['#58D68D','#F4D03F','#F5B041','#AAB7B8','#566573','#A93226','#EC7063', '#A569BD', '#5DADE2','#48C9B0']\n",
    "    field_colors = 'FIELD_COLORS'\n",
    "    for i, _ in enumerate(name_list):\n",
    "        field_colors = f'{field_colors},{hexcolors[i]}'\n",
    "    field_colors=field_colors.strip(',')\n",
    "    return field_colors\n",
    "\n",
    "\n",
    "def _make_legend_colors(name_list,hexcolors=None):\n",
    "    \"\"\"Return itol line with hexcolors for each field\"\"\"\n",
    "    if not hexcolors:\n",
    "        hexcolors = ['#58D68D','#F4D03F','#F5B041','#AAB7B8','#566573','#A93226','#EC7063', '#A569BD', '#5DADE2','#48C9B0']\n",
    "    legend_colors = 'LEGEND_COLORS'\n",
    "    for i, _ in enumerate(name_list):\n",
    "        legend_colors = f'{legend_colors},{hexcolors[i]}'\n",
    "    legend_colors=legend_colors.strip(',')\n",
    "    return legend_colors\n",
    "\n",
    "def _make_legend_labels(name_list):\n",
    "    \"\"\"return itol line with legend labels pulled from name list\"\"\"\n",
    "    \n",
    "    legend_labels='LEGEND_LABELS,'\n",
    "    for name in name_list:\n",
    "        legend_labels =f'{legend_labels}{name},'\n",
    "    legend_labels=legend_labels.strip(',')\n",
    "    return legend_labels\n",
    "\n",
    "\n",
    "def make_multi_itol_bargraph_dataset(outfile_path, count_dict, name_list, dataset_label='dataset_label',\n",
    "                                     color='#848991', legend_title='Dataset legend', hexcolors=None,):\n",
    "    \"\"\"\n",
    "    Add data to simple bargraph template for itol dataset adn write to file.\n",
    "\n",
    "    Parameters\n",
    "    ----------\n",
    "    template_path : str\n",
    "        path to template file from itol.\n",
    "    file_path : str\n",
    "        path for new file that is to be created\n",
    "    data_dict :dict\n",
    "        {name:{terminal node name: count}}\n",
    "\n",
    "    \"\"\"\n",
    "    if not hexcolors:\n",
    "        hexcolors = ['#58D68D','#F4D03F','#F5B041','#AAB7B8','#566573','#A93226','#EC7063', '#A569BD', '#5DADE2','#48C9B0']\n",
    "\n",
    "    with open(outfile_path, 'w') as f:\n",
    "        f.write('DATASET_MULTIBAR\\n')\n",
    "        f.write('SEPARATOR COMMA\\n')\n",
    "        f.write(f'DATASET_LABEL,{dataset_label}\\n')\n",
    "        f.write(f'COLOR,{color}\\n')\n",
    "        f.write(f'{_make_field_colors(name_list, hexcolors=hexcolors)}\\n')\n",
    "        f.write(f'{_make_field_labels(name_list)}\\n')\n",
    "        f.write(f'LEGEND_TITLE,{legend_title}\\n')\n",
    "        f.write(f\"LEGEND_SHAPES,{','.join(['1' for _ in name_list])}\\n\")\n",
    "        f.write(f'{_make_legend_colors(name_list, hexcolors=hexcolors)}\\n')\n",
    "        f.write(f'{_make_legend_labels(name_list)}\\n')\n",
    "        f.write('ALIGN_FIELDS,1\\n')\n",
    "        f.write('DATA\\n')\n",
    "\n",
    "        for name, counts in count_dict.items():\n",
    "            line = f'{name},'\n",
    "            for count in counts:\n",
    "                line = line + str(count)+','\n",
    "            line=line.strip(',') \n",
    "            f.write(line+'\\n')\n",
    "            \n",
    "\n"
   ]
  },
  {
   "cell_type": "code",
   "execution_count": 73,
   "id": "34ec75ef-e2c7-4630-9225-3ce0c3e5bae6",
   "metadata": {
    "tags": []
   },
   "outputs": [],
   "source": [
    "HOGs = {\n",
    "    'crc':'N0.HOG0003265', 'cbrA':'N0.HOG0003702', 'pelA':'N0.HOG0007706','pelB':'N0.HOG0007705','pelC':'N0.HOG0007650','cupB1':'N0.HOG0005381',\n",
    "    'cupB2':'N0.HOG0000906','cupB3':'N0.HOG0000906','cupC1':'N0.HOG0005710','cupC2':'N0.HOG0000907','cupC3':'N0.HOG0001149',\n",
    "    }\n",
    "HOGs_truncated = {\n",
    "    'cbrA':'N0.HOG0003702', 'crc':'N0.HOG0003265', 'pelA':'N0.HOG0007706','cupB1':'N0.HOG0005381','cupC2':'N0.HOG0000907',\n",
    "     }\n",
    "        \n"
   ]
  },
  {
   "cell_type": "code",
   "execution_count": 119,
   "id": "a1b0f142-d9d6-445d-99f2-92695f68af1c",
   "metadata": {
    "tags": []
   },
   "outputs": [],
   "source": [
    "def make_itol_count_dict(tree, HOGs_to_name_d, dop_obj):\n",
    "    \"\"\"\"\"\"\n",
    "    HOG_dict = copynumber_bargraph_data_dict(HOGs_to_name_d.keys(), dop_obj, id_type='accession')\n",
    "    count_d = {leaf_name:[] for leaf_name in [cl.name for cl in tree.get_terminals()]}\n",
    "    name_list = []\n",
    "    for HOG, d in HOG_dict.items():\n",
    "        name_list.append(HOGs_to_name_d[HOG])\n",
    "        for acc in d:\n",
    "            count_d[acc].append(d[acc])\n",
    "    return name_list, count_d\n",
    "        \n",
    "dop_obj = dop.DashOrthoParser('./data')\n",
    "tree =  Phylo.read('./data/Species_Tree/SpeciesTree_rooted_node_labels.txt', format='newick')\n",
    "\n",
    "def make_count_dict_binary(count_dict):\n",
    "    \"\"\"\"\"\"\n",
    "    binary_count_dict = {}   \n",
    "    for name, count_list in count_dict.items():\n",
    "        binary_count_dict[name] = [0 if count == 0 else 1 for count in count_list]      \n",
    "    return binary_count_dict\n",
    " \n",
    "HOGs_to_name_d = {k:v for v,k in HOGs_truncated.items()}\n",
    "name_list, count_dict =  make_itol_count_dict(tree, HOGs_to_name_d, dop_obj)"
   ]
  },
  {
   "cell_type": "code",
   "execution_count": 120,
   "id": "26626de5-5235-41dc-8041-0c5a273f9d65",
   "metadata": {
    "tags": []
   },
   "outputs": [],
   "source": [
    "itol_outfile_path = './itol_tree/multibar_dataset_trunc.txt'\n",
    "binary_count_dict = make_count_dict_binary(count_dict)"
   ]
  },
  {
   "cell_type": "code",
   "execution_count": 124,
   "id": "b14a00b0-cab1-4d8f-b3d4-6791c554e314",
   "metadata": {
    "tags": []
   },
   "outputs": [],
   "source": [
    "make_multi_itol_bargraph_dataset(itol_outfile_path, count_dict=binary_count_dict, name_list=name_list)  "
   ]
  },
  {
   "cell_type": "code",
   "execution_count": 170,
   "id": "69f200bc-14ae-4ea0-aef0-a0c4d0fcd6d7",
   "metadata": {
    "tags": []
   },
   "outputs": [],
   "source": [
    "def relabel_itol_treeleafs(tree, relabel_dict, outfile_path):\n",
    "    \"\"\"\"\"\"\n",
    "    import warnings\n",
    "    tree_leafnames = [cl.name for cl in tree.get_terminals()]\n",
    "    if len(tree_leafnames) != len(relabel_dict.keys()):\n",
    "        warnings.warn('The number of tree leafs and the number of dict key names to be replaced are not equal')\n",
    "    with open(outfile_path, 'w') as f:\n",
    "        f.write('LABELS\\n')\n",
    "        f.write('SEPARATOR COMMA\\n')\n",
    "        f.write('DATA\\n')\n",
    "        for old_name, new_name in relabel_dict.items():\n",
    "            f.write(f'{old_name},{new_name}\\n')\n",
    "    \n",
    "\n"
   ]
  },
  {
   "cell_type": "code",
   "execution_count": 180,
   "id": "e2d936fe-d7a3-4b0f-9b18-e2c5f47b1d33",
   "metadata": {
    "tags": []
   },
   "outputs": [
    {
     "name": "stdout",
     "output_type": "stream",
     "text": [
      "234\n"
     ]
    }
   ],
   "source": [
    "relabel_dict = {}\n",
    "for acc, name in dop_obj.accession_to_name.items():\n",
    "    name = name.replace('[','').replace(']','')\n",
    "    name_list =  name.split(' ')\n",
    "    genus = name_list[0][:50]+'.'\n",
    "    species = name_list[1][:7]+'.'\n",
    "    strain = ' '.join(name_list[2:])[:10]\n",
    "    strain = name_list[-1][:10]\n",
    "    name = f'{genus} {species} {strain}' \n",
    "    relabel_dict[acc]=name\n",
    "print(len(relabel_dict))\n",
    "    \n",
    "outfile_path = './itol_tree/rename_dataset.txt'\n",
    "relabel_itol_treeleafs(tree, relabel_dict, outfile_path)"
   ]
  },
  {
   "cell_type": "code",
   "execution_count": 192,
   "id": "8b484bba-11a3-4a30-9efd-7698af09a434",
   "metadata": {
    "tags": []
   },
   "outputs": [],
   "source": [
    "import shutil\n",
    "dest = './Proteomes'\n",
    "parent_fp = './data/ncbi_dataset/data/'\n",
    "for folder in [f for f in os.listdir(parent_fp) if f.startswith('GC')]:\n",
    "    proteome_fp = os.path.join(parent_fp,folder, 'sequence_report.jsonl')\n",
    "    if os.path.exists(proteome_fp):\n",
    "        n_dest_fp = os.path.join(dest, folder)\n",
    "        shutil.move(proteome_fp, n_dest_fp)"
   ]
  },
  {
   "cell_type": "code",
   "execution_count": null,
   "id": "a8da6a9a-6723-4dd2-a86d-5f5a60555a75",
   "metadata": {},
   "outputs": [],
   "source": []
  },
  {
   "cell_type": "code",
   "execution_count": 49,
   "id": "3ffb155b-b5dc-4225-bc8f-e0e3c539f39f",
   "metadata": {
    "tags": []
   },
   "outputs": [],
   "source": [
    "def make_simple_itol_bargraph_dataset(template_path, file_path, data_dict):\n",
    "    \"\"\"\n",
    "    Add data to simple bargraph template for itol dataset adn write to file.\n",
    "\n",
    "    Parameters\n",
    "    ----------\n",
    "    template_path : str\n",
    "        path to template file from itol.\n",
    "    file_path : str\n",
    "        path for new file that is to be created\n",
    "    data_dict :dict\n",
    "        {terminal node name: count}\n",
    "\n",
    "    \"\"\"\n",
    "\n",
    "\n",
    "    template_lines = []\n",
    "    with open(template_path, 'r') as f:\n",
    "        for line in f:\n",
    "            if line[-1] != '\\n':\n",
    "                line = line+'\\n'\n",
    "            template_lines.append(line)\n",
    "            \n",
    "    with open(file_path, 'w') as f:\n",
    "        for line in template_lines:\n",
    "            f.write(line)\n",
    "        for name, count in data_dict.items():\n",
    "            f.write(f'{name},{count}\\n')\n",
    "            \n",
    "crc_data = list(copynumber_bargraph_data_dict([HOGs['crc']], dop_obj, id_type='accession').values())[0]\n",
    "template_path = './itol_tree/dataset_multibar_template.txt'\n",
    "file_path = './itol_tree/crc_simplebar_dataset.txt'\n",
    "make_simple_itol_bargraph_dataset(template_path, file_path, crc_data)"
   ]
  }
 ],
 "metadata": {
  "kernelspec": {
   "display_name": "Python 3 (ipykernel)",
   "language": "python",
   "name": "python3"
  },
  "language_info": {
   "codemirror_mode": {
    "name": "ipython",
    "version": 3
   },
   "file_extension": ".py",
   "mimetype": "text/x-python",
   "name": "python",
   "nbconvert_exporter": "python",
   "pygments_lexer": "ipython3",
   "version": "3.10.8"
  }
 },
 "nbformat": 4,
 "nbformat_minor": 5
}
